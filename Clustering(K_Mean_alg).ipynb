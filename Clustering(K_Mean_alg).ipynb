{
  "nbformat": 4,
  "nbformat_minor": 0,
  "metadata": {
    "colab": {
      "name": "Clustering(K-Mean alg).ipynb",
      "provenance": [],
      "authorship_tag": "ABX9TyPxA3Dad4rJ1nsrLyoKlXiu",
      "include_colab_link": true
    },
    "kernelspec": {
      "name": "python3",
      "display_name": "Python 3"
    },
    "language_info": {
      "name": "python"
    }
  },
  "cells": [
    {
      "cell_type": "markdown",
      "metadata": {
        "id": "view-in-github",
        "colab_type": "text"
      },
      "source": [
        "<a href=\"https://colab.research.google.com/github/BadariNarayana/Machine-Learning-Projects/blob/main/Clustering(K_Mean_alg).ipynb\" target=\"_parent\"><img src=\"https://colab.research.google.com/assets/colab-badge.svg\" alt=\"Open In Colab\"/></a>"
      ]
    },
    {
      "cell_type": "code",
      "metadata": {
        "colab": {
          "base_uri": "https://localhost:8080/"
        },
        "id": "1xWpViQ-9GOn",
        "outputId": "33edbee3-3d04-4bd5-cea7-c4477d1196fd"
      },
      "source": [
        "from sklearn.cluster import KMeans\n",
        "import numpy as np\n",
        "x=np.array([[1,2],[1,4],[1,0],[10,2],[10,4],[10,0]])\n",
        "kmeans=KMeans(n_clusters=2,random_state=0).fit(x)\n",
        "kmeans.labels_\n",
        "kmeans.predict(([[0,0],[12,3]]))\n",
        "kmeans.cluster_centers_"
      ],
      "execution_count": 5,
      "outputs": [
        {
          "output_type": "execute_result",
          "data": {
            "text/plain": [
              "array([[10.,  2.],\n",
              "       [ 1.,  2.]])"
            ]
          },
          "metadata": {
            "tags": []
          },
          "execution_count": 5
        }
      ]
    }
  ]
}